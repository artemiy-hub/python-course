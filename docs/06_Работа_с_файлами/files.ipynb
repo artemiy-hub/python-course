{
 "cells": [
  {
   "cell_type": "markdown",
   "metadata": {},
   "source": [
    "# Работа с файлами в Python\n",
    "## Запись и чтение файла"
   ]
  },
  {
   "cell_type": "code",
   "execution_count": null,
   "metadata": {},
   "outputs": [],
   "source": [
    "with open('notebook_example.txt', 'w') as f:\n    f.write('Hello from notebook!')\nwith open('notebook_example.txt') as f:\n    print(f.read())"
   ]
  },
  {
   "cell_type": "markdown",
   "metadata": {},
   "source": [
    "## Бинарные файлы"
   ]
  },
  {
   "cell_type": "code",
   "execution_count": null,
   "metadata": {},
   "outputs": [],
   "source": [
    "with open('notebook_bytes.bin', 'wb') as f:\n    f.write(b'\\x01\\x02')\nwith open('notebook_bytes.bin', 'rb') as f:\n    print(f.read())"
   ]
  }
 ],
 "metadata": {
  "kernelspec": {
   "display_name": "Python 3",
   "language": "python",
   "name": "python3"
  },
  "language_info": {
   "name": "python",
   "version": "3.11"
  }
 },
 "nbformat": 4,
 "nbformat_minor": 2
}